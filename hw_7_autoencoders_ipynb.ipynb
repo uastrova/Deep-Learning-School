{
  "cells": [
    {
      "cell_type": "markdown",
      "metadata": {
        "id": "view-in-github",
        "colab_type": "text"
      },
      "source": [
        "<a href=\"https://colab.research.google.com/github/uastrova/Deep-Learning-School/blob/main/hw_7_autoencoders_ipynb.ipynb\" target=\"_parent\"><img src=\"https://colab.research.google.com/assets/colab-badge.svg\" alt=\"Open In Colab\"/></a>"
      ]
    },
    {
      "cell_type": "markdown",
      "metadata": {
        "id": "8y4oYdVb8DhT"
      },
      "source": [
        "# Домашнее задание \"Варианционные автоэнкодеры\""
      ]
    },
    {
      "cell_type": "markdown",
      "metadata": {
        "id": "wMXClGvp8Qhc"
      },
      "source": [
        "В этом домашнем задании вам предстоит реализовать несколько версий автоэнкодера для работы с изображениями.\n",
        "\n",
        "Вы научитесь добавлять улыбку на фотографии людей, изменяя их исходное выражение лица с помощью обученной модели. А также, обучите ваш автоэнкодер генерировать изображения рукописных цифр."
      ]
    },
    {
      "cell_type": "markdown",
      "metadata": {
        "id": "Wru2LNFuL2Iq"
      },
      "source": [
        "# Часть 1. Vanilla Autoencoder (10 баллов)"
      ]
    },
    {
      "cell_type": "markdown",
      "metadata": {
        "id": "kr3STtdpYY7G"
      },
      "source": [
        "## 1.1. Подготовка данных (1 балл)\n"
      ]
    },
    {
      "cell_type": "markdown",
      "metadata": {
        "id": "yQlmRuMMqFNE"
      },
      "source": [
        "Перед тем, как начинать работу с моделями нужно подготовить данные."
      ]
    },
    {
      "cell_type": "code",
      "execution_count": null,
      "metadata": {
        "id": "xTNi9JLRYY7I"
      },
      "outputs": [],
      "source": [
        "import numpy as np\n",
        "from torch.autograd import Variable\n",
        "from torchvision import datasets\n",
        "import torch.nn as nn\n",
        "import torch.nn.functional as F\n",
        "import torch.optim as optim\n",
        "import torch.utils.data as data_utils\n",
        "import torch\n",
        "import matplotlib.pyplot as plt\n",
        "\n",
        "import os\n",
        "import pandas as pd\n",
        "import skimage.io\n",
        "from skimage.transform import resize\n",
        "\n",
        "import imageio\n",
        "from PIL import Image\n",
        "import kagglehub\n",
        "\n",
        "%matplotlib inline"
      ]
    },
    {
      "cell_type": "markdown",
      "metadata": {
        "id": "uNufIXKnqbcB"
      },
      "source": [
        "В этом задании вам предстоить работать с датасетом [LFW (Labeled Faces in the Wild)](https://datasets.activeloop.ai/docs/ml/datasets/lfw-dataset/#:~:text=What%20is%20LFW%20Dataset%3F,commercial%20algorithms%20prior%20to%20release)."
      ]
    },
    {
      "cell_type": "code",
      "execution_count": null,
      "metadata": {
        "colab": {
          "base_uri": "https://localhost:8080/"
        },
        "id": "uOO2qgZt5YeG",
        "outputId": "8d47b531-e647-4d4d-ff56-7f4e4f0d949e"
      },
      "outputs": [
        {
          "name": "stdout",
          "output_type": "stream",
          "text": [
            "Path to dataset files: /kaggle/input/lfw-dataset\n"
          ]
        }
      ],
      "source": [
        "# Скачиваем картинки\n",
        "images_path = kagglehub.dataset_download(\"jessicali9530/lfw-dataset\")\n",
        "print(\"Path to dataset files:\", images_path)"
      ]
    },
    {
      "cell_type": "code",
      "execution_count": null,
      "metadata": {
        "colab": {
          "base_uri": "https://localhost:8080/"
        },
        "id": "nnu0tz2b5XXv",
        "outputId": "cf72909b-e62a-4cb1-b623-1bae3249a5d3"
      },
      "outputs": [
        {
          "name": "stdout",
          "output_type": "stream",
          "text": [
            "Path to dataset files: /kaggle/input/lfw-attributes\n"
          ]
        }
      ],
      "source": [
        "# Скачиваем атрибуты\n",
        "attrs_path = kagglehub.dataset_download(\"averkij/lfw-attributes\")\n",
        "print(\"Path to dataset files:\", attrs_path)"
      ]
    },
    {
      "cell_type": "code",
      "execution_count": null,
      "metadata": {
        "id": "QpVLpsgRxy7L"
      },
      "outputs": [],
      "source": [
        "DATASET_PATH =\"/kaggle/input/lfw-dataset/lfw-deepfunneled/lfw-deepfunneled/\"\n",
        "ATTRIBUTES_PATH = \"/kaggle/input/lfw-attributes/lfw_attributes.txt\""
      ]
    },
    {
      "cell_type": "code",
      "execution_count": null,
      "metadata": {
        "id": "zYWQIrAY1vy5"
      },
      "outputs": [],
      "source": [
        "def fetch_dataset(dx=80, dy=80, dimx=45, dimy=45):\n",
        "\n",
        "    df_attrs = pd.read_csv(ATTRIBUTES_PATH, sep='\\t', skiprows=1,)\n",
        "    df_attrs = pd.DataFrame(df_attrs.iloc[:, :-1].values, columns = df_attrs.columns[1:])\n",
        "\n",
        "    photo_ids = []\n",
        "    for dirpath, dirnames, filenames in os.walk(DATASET_PATH):\n",
        "        for fname in filenames:\n",
        "            if fname.endswith(\".jpg\"):\n",
        "                fpath = os.path.join(dirpath, fname)\n",
        "                photo_id = fname[:-4].replace('_', ' ').split()\n",
        "                person_id = ' '.join(photo_id[:-1])\n",
        "                photo_number = int(photo_id[-1])\n",
        "                photo_ids.append({'person': person_id,' imagenum': photo_number, 'photo_path': fpath})\n",
        "\n",
        "    photo_ids = pd.DataFrame(photo_ids)\n",
        "    df = pd.merge(df_attrs,photo_ids,on=('person', 'imagenum'))\n",
        "\n",
        "    assert len(df) == len(df_attrs), \"Потеряны данные при объединении датафреймов!\"\n",
        "\n",
        "    images = df['photo_path'].apply(imageio.imread)\\\n",
        "                                .apply(lambda img:img[dy:-dy, dx:-dx])\\\n",
        "                                .apply(lambda img: np.array(Image.fromarray(img).resize([dimx, dimy])) )\n",
        "\n",
        "    images = np.stack(images.values).astype('uint8')\n",
        "    attrs = df.drop([\"photo_path\",\"person\",\"imagenum\"],axis=1)\n",
        "\n",
        "    return images, attrs"
      ]
    },
    {
      "cell_type": "code",
      "execution_count": null,
      "metadata": {
        "id": "W3KhlblLYY7P"
      },
      "outputs": [],
      "source": [
        "# Обратите внимание, что датасет представляет собой не только картинки, но и атрибуты\n",
        "# Атрибуты понадобятся в конце этого задания\n",
        "\n",
        "images, attrs = fetch_dataset()"
      ]
    },
    {
      "cell_type": "markdown",
      "metadata": {
        "id": "8MSzXXGoYY7X"
      },
      "source": [
        "\n",
        "Разбейте датасет изображений и атрибутов на train и val, выведите несколько картинок в output, чтобы посмотреть, как они выглядят, и приведите картинки к тензорам pytorch, чтобы можно было скормить их сети:"
      ]
    },
    {
      "cell_type": "code",
      "execution_count": null,
      "metadata": {
        "id": "dFc8lTm_YY7Y",
        "scrolled": true
      },
      "outputs": [],
      "source": [
        "# <тут Ваш код>"
      ]
    },
    {
      "cell_type": "markdown",
      "metadata": {
        "id": "z9CC-DUhYY7i"
      },
      "source": [
        "## 1.2. Архитектура модели (2 балла)\n",
        "В этом разделе вы напишите и обучите обычный автоэнкодер.\n",
        "\n",
        "\n",
        "\n",
        "![image.png](data:image/png;base64,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)"
      ]
    },
    {
      "cell_type": "code",
      "execution_count": null,
      "metadata": {
        "id": "csrNCYh-YY7j"
      },
      "outputs": [],
      "source": [
        "dim_code = <your code here> # выберите размер латентного вектора"
      ]
    },
    {
      "cell_type": "markdown",
      "metadata": {
        "id": "Fjr-N8AWee-k"
      },
      "source": [
        "Реализуем autoencoder. Архитектуру (conv, fully-connected, ReLu, etc) можете выбирать сами. Экспериментируйте!"
      ]
    },
    {
      "cell_type": "code",
      "execution_count": null,
      "metadata": {
        "id": "8SjHNX-rYY7k"
      },
      "outputs": [],
      "source": [
        "class Autoencoder(nn.Module):\n",
        "    def __init__(self):\n",
        "        # <определите архитектуры encoder и decoder>\n",
        "\n",
        "    def forward(self, x):\n",
        "\n",
        "        # реализуйте forward проход автоэнкодера\n",
        "        # в качестве возвращаемых переменных -- латентное представление картинки (latent_code)\n",
        "        # и полученная реконструкция изображения (reconstruction)\n",
        "\n",
        "        return reconstruction, latent_code"
      ]
    },
    {
      "cell_type": "code",
      "execution_count": null,
      "metadata": {
        "id": "73lg3bI2YY7m"
      },
      "outputs": [],
      "source": [
        "criterion = # <loss>\n",
        "\n",
        "autoencoder = Autoencoder()\n",
        "\n",
        "optimizer = # <Ваш любимый оптимизатор>"
      ]
    },
    {
      "cell_type": "markdown",
      "metadata": {
        "id": "GpntmZCe5L6i"
      },
      "source": [
        "## 1.3 Обучение (2 балла)"
      ]
    },
    {
      "cell_type": "markdown",
      "metadata": {
        "id": "Bdxg_3WJYY7o"
      },
      "source": [
        "Осталось написать код обучения автоэнкодера. При этом было бы неплохо в процессе иногда смотреть, как автоэнкодер реконструирует изображения на данном этапе обучения. Наример, после каждой эпохи (прогона train выборки через автоэнкодер) можно смотреть, какие реконструкции получились для каких-то изображений val выборки.\n",
        "\n",
        "А, ну еще было бы неплохо выводить графики train и val лоссов в процессе тренировки =)"
      ]
    },
    {
      "cell_type": "code",
      "execution_count": null,
      "metadata": {
        "id": "3H3DOojrYY7o",
        "scrolled": true
      },
      "outputs": [],
      "source": [
        "<тут Ваш код тренировки автоэнкодера>"
      ]
    },
    {
      "cell_type": "markdown",
      "metadata": {
        "id": "FAztAMA4YY7q"
      },
      "source": [
        "Давайте посмотрим, как наш тренированный автоэнкодер кодирует и восстанавливает картинки:"
      ]
    },
    {
      "cell_type": "code",
      "execution_count": null,
      "metadata": {
        "id": "I1J__yvxYY7r"
      },
      "outputs": [],
      "source": [
        "< тут Ваш код: выведите первые Х картинок и их реконструкций из val выборки на экран>"
      ]
    },
    {
      "cell_type": "markdown",
      "metadata": {
        "id": "SLPW2QPt8pkJ"
      },
      "source": [
        "Что вы можете сказать про результат?"
      ]
    },
    {
      "cell_type": "markdown",
      "metadata": {
        "id": "0zQ5zMls8xbM"
      },
      "source": []
    },
    {
      "cell_type": "markdown",
      "metadata": {
        "id": "dFi96giuYY7t"
      },
      "source": [
        "## 1.4. Sampling (2 балла)"
      ]
    },
    {
      "cell_type": "markdown",
      "metadata": {
        "id": "AOtUaPNYYY7t"
      },
      "source": [
        "Давайте теперь будем не просто брать картинку, прогонять ее через автоэнкодер и получать реконструкцию, а попробуем создать что-то НОВОЕ!\n",
        "\n",
        "Давайте возьмем и подсунем декодеру какие-нибудь сгенерированные нами векторы (например, из нормального распределения) и посмотрим на результат реконструкции декодера:\n",
        "\n",
        "__Подсказка:__ Если вместо лиц у вас выводится непонятно что, попробуйте посмотреть, как выглядят латентные векторы картинок из датасета. Так как в обучении нейронных сетей есть определенная доля рандома, векторы латентного слоя могут быть распределены НЕ как `np.random.randn(25, <latent_space_dim>)`. А чтобы у нас получались лица при запихивании вектора декодеру, вектор должен быть распределен так же, как латентные векторы реальных фоток. Так что в таком случае придется рандом немного подогнать."
      ]
    },
    {
      "cell_type": "code",
      "execution_count": null,
      "metadata": {
        "id": "8IZykARRYY7u",
        "scrolled": true
      },
      "outputs": [],
      "source": [
        "# сгенерируем 25 рандомных векторов размера latent_space\n",
        "z = np.random.randn(25, <latent_space_dim>)\n",
        "output = <скормите z декодеру>\n",
        "<выведите тут полученные картинки>"
      ]
    },
    {
      "cell_type": "markdown",
      "metadata": {
        "collapsed": true,
        "id": "Ey8dD9s0YY7w"
      },
      "source": [
        "## 1.5 Time to make fun! (3 балла)\n",
        "\n",
        "Давайте научимся пририсовывать людям улыбки =)"
      ]
    },
    {
      "cell_type": "markdown",
      "metadata": {
        "id": "i1v-8WwuYY7w"
      },
      "source": [
        "<img src=\"https://i.imgur.com/tOE9rDK.png\" alt=\"linear\" width=\"700\" height=\"400\">"
      ]
    },
    {
      "cell_type": "markdown",
      "metadata": {
        "id": "eGE0M2GDYY7x"
      },
      "source": [
        "План такой:\n",
        "\n",
        "1. Нужно выделить \"вектор улыбки\": для этого нужно из выборки изображений найти несколько (~15) людей с улыбками и столько же без.\n",
        "\n",
        "Найти людей с улыбками вам поможет файл с атрибутами, скачанный вместе с картинками. В нем указаны имена изображений и присутствубщие атрибуты (улыбки, очки и прочее интересное).\n",
        "\n",
        "2. Вычислить латентный вектор для всех улыбающихся людей (прогнать их через encoder) и то же для всех грустненьких.\n",
        "\n",
        "3. Вычислить, собственно, вектор улыбки -- посчитать разность между средним латентным вектором улыбающихся людей и средним латентным вектором грустных людей.\n",
        "\n",
        "4. А теперь приделаем улыбку грустному человеку: добавим полученный в пункте 3 вектор к латентному вектору грустного человека и прогоним полученный вектор через decoder. Получим того же человека, но уже не грустненького!"
      ]
    },
    {
      "cell_type": "code",
      "execution_count": null,
      "metadata": {
        "id": "f1oBX9EeYY7x"
      },
      "outputs": [],
      "source": [
        "<ваш код здесь>"
      ]
    },
    {
      "cell_type": "markdown",
      "metadata": {
        "id": "bXI6jprOYY7z"
      },
      "source": [
        "Вуаля! Вы восхитительны!"
      ]
    },
    {
      "cell_type": "markdown",
      "metadata": {
        "id": "E2UAf0bpYY70"
      },
      "source": [
        "Теперь вы можете пририсовывать людям не только улыбки, но и много чего другого -- закрывать/открывать глаза, пририсовывать очки... В общем, все, на что хватит фантазии и на что есть атрибуты в `attrs`:)"
      ]
    },
    {
      "cell_type": "markdown",
      "metadata": {
        "id": "QQnEGmknYY71"
      },
      "source": [
        "# Часть 2: Variational Autoencoder (10 баллов)"
      ]
    },
    {
      "cell_type": "markdown",
      "metadata": {
        "id": "bWQNRjJq2uTz"
      },
      "source": [
        "Займемся обучением вариационных автоэнкодеров — проапгрейженной версии AE. Обучать будем на датасете MNIST, содержащем написанные от руки цифры от 0 до 9"
      ]
    },
    {
      "cell_type": "code",
      "execution_count": null,
      "metadata": {
        "id": "qBXXr9njByYC"
      },
      "outputs": [],
      "source": [
        "batch_size = 32\n",
        "# MNIST Dataset\n",
        "train_dataset = datasets.MNIST(root='./mnist_data/', train=True, transform=transforms.ToTensor(), download=True)\n",
        "test_dataset = datasets.MNIST(root='./mnist_data/', train=False, transform=transforms.ToTensor(), download=False)\n",
        "\n",
        "# Data Loader (Input Pipeline)\n",
        "train_loader = torch.utils.data.DataLoader(dataset=train_dataset, batch_size=batch_size, shuffle=True)\n",
        "test_loader = torch.utils.data.DataLoader(dataset=test_dataset, batch_size=batch_size, shuffle=False"
      ]
    },
    {
      "cell_type": "markdown",
      "metadata": {
        "id": "2rHphW5l8Wgi"
      },
      "source": [
        "## 2.1 Архитектура модели и обучение (2 балла)\n",
        "\n",
        "Реализуем VAE. Архитектуру (conv, fully-connected, ReLu, etc) можете выбирать сами. Рекомендуем пользоваться более сложными моделями, чем та, что была на семинаре:) Экспериментируйте!"
      ]
    },
    {
      "cell_type": "code",
      "execution_count": null,
      "metadata": {
        "id": "IoNVT5tYYY74"
      },
      "outputs": [],
      "source": [
        "class VAE(nn.Module):\n",
        "    def __init__(self):\n",
        "        <определите архитектуры encoder и decoder\n",
        "        помните, у encoder должны быть два \"хвоста\",\n",
        "        т.е. encoder должен кодировать картинку в 2 переменные -- mu и logsigma>\n",
        "\n",
        "    def encode(self, x):\n",
        "        <реализуйте forward проход энкодера\n",
        "        в качестве ваозвращаемых переменных -- mu и logsigma>\n",
        "\n",
        "        return mu, logsigma\n",
        "\n",
        "    def gaussian_sampler(self, mu, logsigma):\n",
        "        if self.training:\n",
        "            <засемплируйте латентный вектор из нормального распределения с параметрами mu и sigma>\n",
        "        else:\n",
        "            # на инференсе возвращаем не случайный вектор из нормального распределения, а центральный -- mu.\n",
        "            # на инференсе выход автоэнкодера должен быть детерминирован.\n",
        "            return mu\n",
        "\n",
        "    def decode(self, z):\n",
        "        <реализуйте forward проход декодера\n",
        "        в качестве возвращаемой переменной -- reconstruction>\n",
        "\n",
        "        return reconstruction\n",
        "\n",
        "    def forward(self, x):\n",
        "        <используя encode и decode, реализуйте forward проход автоэнкодера\n",
        "        в качестве ваозвращаемых переменных -- mu, logsigma и reconstruction>\n",
        "        return mu, logsigma, reconstruction"
      ]
    },
    {
      "cell_type": "markdown",
      "metadata": {
        "id": "hAB77d-PYY76"
      },
      "source": [
        "Определим лосс и его компоненты для VAE:"
      ]
    },
    {
      "cell_type": "markdown",
      "metadata": {
        "id": "UxJrkXGQo5bp"
      },
      "source": [
        "Надеюсь, вы уже прочитали материал в towardsdatascience (или еще где-то) про VAE и знаете, что лосс у VAE состоит из двух частей: KL и log-likelihood.\n",
        "\n",
        "Общий лосс будет выглядеть так:\n",
        "\n",
        "$$\\mathcal{L} = -D_{KL}(q_{\\phi}(z|x)||p(z)) + \\log p_{\\theta}(x|z)$$\n",
        "\n",
        "Формула для KL-дивергенции:\n",
        "\n",
        "$$D_{KL} = -\\frac{1}{2}\\sum_{i=1}^{dimZ}(1+log(\\sigma_i^2)-\\mu_i^2-\\sigma_i^2)$$\n",
        "\n",
        "В качестве log-likelihood возьмем привычную нам кросс-энтропию."
      ]
    },
    {
      "cell_type": "code",
      "execution_count": null,
      "metadata": {
        "id": "ac5ey7uIYY77"
      },
      "outputs": [],
      "source": [
        "def KL_divergence(mu, logsigma):\n",
        "    \"\"\"\n",
        "    часть функции потерь, которая отвечает за \"близость\" латентных представлений разных людей\n",
        "    \"\"\"\n",
        "    loss = <напишите код для KL-дивергенции, пользуясь формулой выше>\n",
        "    return\n",
        "\n",
        "def log_likelihood(x, reconstruction):\n",
        "    \"\"\"\n",
        "    часть функции потерь, которая отвечает за качество реконструкции (как mse в обычном autoencoder)\n",
        "    \"\"\"\n",
        "    loss = <binary cross-entropy>\n",
        "    return loss(reconstruction, x)\n",
        "\n",
        "def loss_vae(x, mu, logsigma, reconstruction):\n",
        "    return <соедините тут две компоненты лосса. Mind the sign!>"
      ]
    },
    {
      "cell_type": "markdown",
      "metadata": {
        "id": "ZPJQu70eYY79"
      },
      "source": [
        "И обучим модель:"
      ]
    },
    {
      "cell_type": "code",
      "execution_count": null,
      "metadata": {
        "id": "dtCjfqXdYY79"
      },
      "outputs": [],
      "source": [
        "criterion = loss_vae\n",
        "\n",
        "autoencoder = VAE()\n",
        "\n",
        "optimizer = <Ваш любимый оптимизатор>"
      ]
    },
    {
      "cell_type": "code",
      "execution_count": null,
      "metadata": {
        "id": "rY1khca6YY7_",
        "scrolled": true
      },
      "outputs": [],
      "source": [
        "<обучите модель на датасете MNIST>"
      ]
    },
    {
      "cell_type": "markdown",
      "metadata": {
        "id": "SkxW_8fkYY8B",
        "scrolled": true
      },
      "source": [
        "Давайте посмотрим, как наш тренированный VAE кодирует и восстанавливает картинки:"
      ]
    },
    {
      "cell_type": "code",
      "execution_count": null,
      "metadata": {
        "id": "4Jd3BWM_YY8C"
      },
      "outputs": [],
      "source": [
        "< тут Ваш код: выведите первые Х картинок и их реконструкций из val выборки на экран>"
      ]
    },
    {
      "cell_type": "markdown",
      "metadata": {
        "id": "PQXYIXjoYY8F"
      },
      "source": [
        "Давайте попробуем проделать для VAE то же, что и с обычным автоэнкодером -- подсунуть decoder'у из VAE случайные векторы из нормального распределения и посмотреть, какие картинки получаются:"
      ]
    },
    {
      "cell_type": "code",
      "execution_count": null,
      "metadata": {
        "id": "bOhhH-osYY8G"
      },
      "outputs": [],
      "source": [
        "# вспомните про замечание из этого же пункта обычного AE про распределение латентных переменных\n",
        "z = np.array([np.random.normal(0, 1, 100) for i in range(10)])\n",
        "output = <скормите z декодеру>\n",
        "<выведите тут полученные картинки>"
      ]
    },
    {
      "cell_type": "markdown",
      "metadata": {
        "id": "Nzt-ENxCr6ul"
      },
      "source": [
        "## 2.2. Latent Representation (2 балла)"
      ]
    },
    {
      "cell_type": "markdown",
      "metadata": {
        "id": "uIWy670xr-Uv"
      },
      "source": [
        "Давайте посмотрим, как латентные векторы картинок лиц выглядят в пространстве.\n",
        "Ваша задача -- изобразить латентные векторы картинок точками в двумерном просторанстве.\n",
        "\n",
        "Это позволит оценить, насколько плотно распределены латентные векторы изображений цифр в пространстве.\n",
        "\n",
        "Плюс давайте сделаем такую вещь: покрасим точки, которые соответствуют картинкам каждой цифры, в свой отдельный цвет\n",
        "\n",
        "Подсказка: красить -- это просто =) У plt.scatter есть параметр c (color), см. в документации.\n",
        "\n",
        "\n",
        "Итак, план:\n",
        "1. Получить латентные представления картинок тестового датасета\n",
        "2. С помощтю `TSNE` (есть в `sklearn`) сжать эти представления до размерности 2 (чтобы можно было их визуализировать точками в пространстве)\n",
        "3. Визуализировать полученные двумерные представления с помощью `matplotlib.scatter`, покрасить разными цветами точки, соответствующие картинкам разных цифр."
      ]
    },
    {
      "cell_type": "code",
      "execution_count": null,
      "metadata": {
        "id": "Bk94C6mCsx9c"
      },
      "outputs": [],
      "source": [
        "<ваш код получения латентных представлений, применения TSNE и визуализации>"
      ]
    },
    {
      "cell_type": "markdown",
      "metadata": {
        "id": "ifxhsvPss5h_"
      },
      "source": [
        "Что вы думаете о виде латентного представления?"
      ]
    },
    {
      "cell_type": "markdown",
      "metadata": {
        "id": "ESPBHrL3YY8H"
      },
      "source": [
        "__Congrats v2.0!__"
      ]
    },
    {
      "cell_type": "markdown",
      "metadata": {
        "id": "yIYuKFwijN2U"
      },
      "source": [
        "## 2.3. Conditional VAE (6 баллов)\n"
      ]
    },
    {
      "cell_type": "markdown",
      "metadata": {
        "id": "c5l8Bu1RPjUx"
      },
      "source": [
        "Мы уже научились обучать обычный AE на датасете картинок и получать новые картинки, используя генерацию шума и декодер.\n",
        "Давайте теперь допустим, что мы обучили AE на датасете MNIST и теперь хотим генерировать новые картинки с числами с помощью декодера (как выше мы генерили рандомные лица).\n",
        "И вот нам понадобилось сгенерировать цифру 8, и мы подставляем разные варианты шума, но восьмерка никак не генерится:(\n",
        "\n",
        "Хотелось бы добавить к нашему AE функцию \"выдай мне рандомное число из вот этого вот класса\", где классов десять (цифры от 0 до 9 образуют десять классов).  Conditional AE — так называется вид автоэнкодера, который предоставляет такую возможность. Ну, название \"conditional\" уже говорит само за себя.\n",
        "\n",
        "И в этой части задания мы научимся такие обучать."
      ]
    },
    {
      "cell_type": "markdown",
      "metadata": {
        "id": "0j8zNIwKPY-6"
      },
      "source": [
        "### Архитектура\n",
        "\n",
        "На картинке ниже представлена архитектура простого Conditional VAE.\n",
        "\n",
        "По сути, единственное отличие от обычного -- это то, что мы вместе с картинкой в первом слое энкодера и декодера передаем еще информацию о классе картинки.\n",
        "\n",
        "То есть, в первый (входной) слой энкодера подается конкатенация картинки и информации о классе (например, вектора из девяти нулей и одной единицы). В первый слой декодера подается конкатенация латентного вектора и информации о классе."
      ]
    },
    {
      "cell_type": "markdown",
      "metadata": {
        "id": "Y6YloFEAPeM4"
      },
      "source": [
        "\n",
        "![alt text](https://sun9-63.userapi.com/impg/Mh1akf7mfpNoprrSWsPOouazSmTPMazYYF49Tw/djoHNw_9KVA.jpg?size=1175x642&quality=96&sign=e88baec5f9bb91c8443fba31dcf0a4df&type=album)\n",
        "\n",
        "![alt text](https://sun9-73.userapi.com/impg/UDuloLNKhzTBYAKewgxke5-YPsAKyGOqA-qCRg/MnyCavJidxM.jpg?size=1229x651&quality=96&sign=f2d21bfacc1c5755b76868dc4cfef39c&type=album)\n",
        "\n"
      ]
    },
    {
      "cell_type": "markdown",
      "metadata": {
        "id": "hxg2tDSfRbLF"
      },
      "source": [
        "На всякий случай: это VAE, то есть, latent у него все еще состоит из mu и sigma"
      ]
    },
    {
      "cell_type": "markdown",
      "metadata": {
        "id": "GpFbSXLaPrm1"
      },
      "source": [
        "Таким образом, при генерации новой рандомной картинки мы должны будем передать декодеру сконкатенированные латентный вектор и класс картинки."
      ]
    },
    {
      "cell_type": "markdown",
      "metadata": {
        "id": "cX0zxklMPwI2"
      },
      "source": [
        "P.S. Также можно передавать класс картинки не только в первый слой, но и в каждый слой сети. То есть на каждом слое конкатенировать выход из предыдущего слоя и информацию о классе."
      ]
    },
    {
      "cell_type": "code",
      "execution_count": null,
      "metadata": {
        "id": "ar701cHOkDKS"
      },
      "outputs": [],
      "source": [
        "class CVAE(nn.Module):\n",
        "    def __init__(self):\n",
        "        # <определите архитектуры encoder и decoder\n",
        "        # помните, у encoder должны быть два \"хвоста\",\n",
        "        # т.е. encoder должен кодировать картинку в 2 переменные -- mu и logsigma>\n",
        "\n",
        "    def encode(self, x, class_num):\n",
        "        # <реализуйте forward проход энкодера\n",
        "        # в качестве возвращаемых переменных -- mu, logsigma и класс картинки>\n",
        "\n",
        "        return mu, logsigma, class_num\n",
        "\n",
        "    def gaussian_sampler(self, mu, logsigma):\n",
        "        if self.training:\n",
        "            # засемплируйте латентный вектор из нормального распределения с параметрами mu и sigma\n",
        "        else:\n",
        "            # на инференсе возвращаем не случайный вектор из нормального распределения, а центральный -- mu.\n",
        "            # на инференсе выход автоэнкодера должен быть детерминирован.\n",
        "            return mu\n",
        "\n",
        "    def decode(self, z, class_num):\n",
        "        # реализуйте forward проход декодера\n",
        "        # в качестве возвращаемой переменной -- reconstruction\n",
        "\n",
        "        return reconstruction\n",
        "\n",
        "    def forward(self, x):\n",
        "        # используя encode и decode, реализуйте forward проход автоэнкодера\n",
        "        # в качестве ваозвращаемых переменных -- mu, logsigma и reconstruction\n",
        "        return mu, logsigma, reconstruction"
      ]
    },
    {
      "cell_type": "markdown",
      "metadata": {
        "id": "VoMw-IFyP5A2"
      },
      "source": [
        "### Sampling\n"
      ]
    },
    {
      "cell_type": "markdown",
      "metadata": {
        "id": "qe1zWyZHkLV2"
      },
      "source": [
        "Тут мы будем сэмплировать из CVAE. Это прикольнее, чем сэмплировать из простого AE/VAE: тут можно взять один и тот же латентный вектор и попросить CVAE восстановить из него картинки разных классов!\n",
        "Для MNIST вы можете попросить CVAE восстановить из одного латентного вектора, например, картинки цифры 5 и 7."
      ]
    },
    {
      "cell_type": "code",
      "execution_count": null,
      "metadata": {
        "id": "A0SQIhvNP9Dr"
      },
      "outputs": [],
      "source": [
        "<тут нужно научиться сэмплировать из декодера цифры определенного класса>"
      ]
    },
    {
      "cell_type": "markdown",
      "metadata": {
        "id": "nAWBu8rzQBgQ"
      },
      "source": [
        "Splendid! Вы великолепны!\n"
      ]
    },
    {
      "cell_type": "markdown",
      "metadata": {
        "id": "Rt2S77cm3O1v"
      },
      "source": [
        "### Latent Representations"
      ]
    },
    {
      "cell_type": "markdown",
      "metadata": {
        "id": "Nt7x8Ek_rHTE"
      },
      "source": [
        "Давайте посмотрим, как выглядит латентное пространство картинок в CVAE и сравним с картинкой для VAE =)\n",
        "\n",
        "Опять же, нужно покрасить точки в разные цвета в зависимости от класса."
      ]
    },
    {
      "cell_type": "code",
      "execution_count": null,
      "metadata": {
        "id": "LSCYK7sH3KEc"
      },
      "outputs": [],
      "source": [
        "<ваш код получения латентных представлений, применения TSNE и визуализации>"
      ]
    },
    {
      "cell_type": "markdown",
      "metadata": {
        "id": "ET8IELWu3Z2c"
      },
      "source": [
        "Что вы думаете насчет этой картинки? Отличается от картинки для VAE?"
      ]
    },
    {
      "cell_type": "markdown",
      "metadata": {
        "id": "SWkqHjvTCD_8"
      },
      "source": []
    },
    {
      "cell_type": "markdown",
      "metadata": {
        "id": "KN3D_k5W_WZz"
      },
      "source": [
        "# BONUS 1: Denoising (2 балла)\n",
        "\n",
        "## Внимание! За бонусы доп. баллы не ставятся, но вы можете сделать их для себя."
      ]
    },
    {
      "cell_type": "markdown",
      "metadata": {
        "id": "12a1jkpkCsIU"
      },
      "source": [
        "У автоэнкодеров, кроме сжатия и генерации изображений, есть другие практические применения. Про одно из них эта бонусная часть задания."
      ]
    },
    {
      "cell_type": "markdown",
      "metadata": {
        "id": "v8EN-8jlCtmd"
      },
      "source": [
        "Автоэнкодеры могут быть использованы для избавления от шума на фотографиях (denoising). Для этого их нужно обучить специальным образом: input картинка будет зашумленной, а выдавать автоэнкодер должен будет картинку без шума.\n",
        "То есть, loss-функция AE останется той же (MSE между реальной картинкой и выданной), а на вход автоэнкодеру будет подаваться зашумленная картинка."
      ]
    },
    {
      "cell_type": "markdown",
      "metadata": {
        "id": "j1OJg6jhlaZl"
      },
      "source": [
        "<a href=\"https://ibb.co/YbRJ1nZ\"><img src=\"https://i.ibb.co/0QD164t/Screen-Shot-2020-06-04-at-4-49-50-PM.png\" alt=\"Screen-Shot-2020-06-04-at-4-49-50-PM\" border=\"0\"></a>"
      ]
    },
    {
      "cell_type": "markdown",
      "metadata": {
        "id": "ysI0BCuRDbvm"
      },
      "source": [
        "Для этого нужно взять ваш любимый датасет (датасет лиц из первой части этого задания или любой другой) и сделать копию этого датасета с шумом.\n",
        "\n",
        "В питоне шум можно добавить так:"
      ]
    },
    {
      "cell_type": "code",
      "execution_count": null,
      "metadata": {
        "id": "X5e746iVDgSm"
      },
      "outputs": [],
      "source": [
        "noise_factor = 0.5\n",
        "X_noisy = X + noise_factor * np.random.normal(loc=0.0, scale=1.0, size=X.shape)"
      ]
    },
    {
      "cell_type": "code",
      "execution_count": null,
      "metadata": {
        "id": "9fSPkXMtDpd5"
      },
      "outputs": [],
      "source": [
        "<тут ваш код обучения автоэнкодера на зашумленных картинках. Не забудьте разбить на train/test!>"
      ]
    },
    {
      "cell_type": "code",
      "execution_count": null,
      "metadata": {
        "id": "B03NQ_sKDvg2"
      },
      "outputs": [],
      "source": [
        "<тут проверка, как AE убирает шум с тестовых картинок. Надеюсь, все получилось =)>"
      ]
    },
    {
      "cell_type": "markdown",
      "metadata": {
        "id": "-NDiCPYLm2bY"
      },
      "source": [
        "# BONUS 2: Image Retrieval (2 балла)\n",
        "\n",
        "## Внимание! За бонусы доп. баллы не ставятся, но вы можете сделать их для себя."
      ]
    },
    {
      "cell_type": "markdown",
      "metadata": {
        "id": "xao_27WMm7AL"
      },
      "source": [
        "Давайте представим, что весь наш тренировочный датасет -- это большая база данных людей. И вот мы получили картинку лица какого-то человека с уличной камеры наблюдения (у нас это картинка из тестового датасета) и хотим понять, что это за человек. Что нам делать? Правильно -- берем наш VAE, кодируем картинку в латентное представление и ищем среди латентных представлений лиц нашей базы самые ближайшие!"
      ]
    },
    {
      "cell_type": "markdown",
      "metadata": {
        "id": "Y__bdS23ndeY"
      },
      "source": [
        "План:\n",
        "\n",
        "1. Получаем латентные представления всех лиц тренировочного датасета\n",
        "2. Обучаем на них LSHForest `(sklearn.neighbors.LSHForest)`, например, с `n_estimators=50`\n",
        "3. Берем картинку из тестового датасета, с помощью VAE получаем ее латентный вектор\n",
        "4. Ищем с помощью обученного LSHForest ближайшие из латентных представлений тренировочной базы\n",
        "5. Находим лица тренировочного датасета, которым соответствуют ближайшие латентные представления, визуализируем!"
      ]
    },
    {
      "cell_type": "markdown",
      "metadata": {
        "id": "IksC2ucIoND-"
      },
      "source": [
        "Немного кода вам в помощь: (feel free to delete everything and write your own)"
      ]
    },
    {
      "cell_type": "code",
      "execution_count": null,
      "metadata": {
        "id": "hK0YpLMRoEa0"
      },
      "outputs": [],
      "source": [
        "codes = <поучите латентные представления картинок из трейна>"
      ]
    },
    {
      "cell_type": "code",
      "execution_count": null,
      "metadata": {
        "id": "KisDrgZdoWdt"
      },
      "outputs": [],
      "source": [
        "# обучаем LSHForest\n",
        "from sklearn.neighbors import LSHForest\n",
        "lshf = LSHForest(n_estimators=50).fit(codes)"
      ]
    },
    {
      "cell_type": "code",
      "execution_count": null,
      "metadata": {
        "id": "Y_S5zPb5obam"
      },
      "outputs": [],
      "source": [
        "def get_similar(image, n_neighbors=5):\n",
        "  # функция, которая берет тестовый image и с помощью метода kneighbours у LSHForest ищет ближайшие векторы\n",
        "  # прогоняет векторы через декодер и получает картинки ближайших людей\n",
        "\n",
        "  code = <получение латентного представления image>\n",
        "\n",
        "  (distances,),(idx,) = lshf.kneighbors(code, n_neighbors=n_neighbors)\n",
        "\n",
        "  return distances, X_train[idx]"
      ]
    },
    {
      "cell_type": "code",
      "execution_count": null,
      "metadata": {
        "id": "t2kjV5wupLP_"
      },
      "outputs": [],
      "source": [
        "def show_similar(image):\n",
        "\n",
        "  # функция, которая принимает тестовый image, ищет ближайшие к нему и визуализирует результат\n",
        "\n",
        "    distances,neighbors = get_similar(image,n_neighbors=11)\n",
        "\n",
        "    plt.figure(figsize=[8,6])\n",
        "    plt.subplot(3,4,1)\n",
        "    plt.imshow(image.cpu().numpy().transpose([1,2,0]))\n",
        "    plt.title(\"Original image\")\n",
        "\n",
        "    for i in range(11):\n",
        "        plt.subplot(3,4,i+2)\n",
        "        plt.imshow(neighbors[i].cpu().numpy().transpose([1,2,0]))\n",
        "        plt.title(\"Dist=%.3f\"%distances[i])\n",
        "    plt.show()"
      ]
    },
    {
      "cell_type": "code",
      "execution_count": null,
      "metadata": {
        "id": "w3Ja1UNf_oJq"
      },
      "outputs": [],
      "source": [
        "<тут выведите самые похожие лица к какому-нибудь лицу из тестовой части датасета>"
      ]
    }
  ],
  "metadata": {
    "colab": {
      "collapsed_sections": [
        "Wru2LNFuL2Iq",
        "dFi96giuYY7t",
        "QQnEGmknYY71"
      ],
      "provenance": [],
      "include_colab_link": true
    },
    "kernelspec": {
      "display_name": "Python 3",
      "language": "python",
      "name": "python3"
    }
  },
  "nbformat": 4,
  "nbformat_minor": 0
}